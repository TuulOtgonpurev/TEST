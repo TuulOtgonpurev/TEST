{
  "nbformat": 4,
  "nbformat_minor": 0,
  "metadata": {
    "colab": {
      "name": "Untitled1.ipynb",
      "provenance": [],
      "collapsed_sections": [],
      "toc_visible": true,
      "private_outputs": true,
      "authorship_tag": "ABX9TyMb0ptRwjyaRy0j5Wdnqbdk",
      "include_colab_link": true
    },
    "kernelspec": {
      "name": "python3",
      "display_name": "Python 3"
    },
    "language_info": {
      "name": "python"
    },
    "accelerator": "GPU"
  },
  "cells": [
    {
      "cell_type": "markdown",
      "metadata": {
        "id": "view-in-github",
        "colab_type": "text"
      },
      "source": [
        "<a href=\"https://colab.research.google.com/github/TuulOtgonpurev/TEST/blob/main/Untitled1.ipynb\" target=\"_parent\"><img src=\"https://colab.research.google.com/assets/colab-badge.svg\" alt=\"Open In Colab\"/></a>"
      ]
    },
    {
      "cell_type": "code",
      "source": [
        "score = { \"KIM\":90, \"LEE\":85, \"JUN\":95 }\n",
        "print(\"score['KIM'] ==\", score['KIM'])"
      ],
      "metadata": {
        "id": "TBGzLlRVoob7"
      },
      "execution_count": null,
      "outputs": []
    },
    {
      "cell_type": "markdown",
      "source": [
        ""
      ],
      "metadata": {
        "id": "BUDFQFkyuwRk"
      }
    },
    {
      "cell_type": "code",
      "source": [
        "score = { \"KIM\":90, \"LEE\":85, \"JUN\":95 }\n",
        "print(\"score key ==\", score. keys())\n",
        "print(\"score values ==\", score. values())\n",
        "print(\"score items ==\", score. items())"
      ],
      "metadata": {
        "id": "gfdRFw-ruwv2"
      },
      "execution_count": null,
      "outputs": []
    },
    {
      "cell_type": "code",
      "source": [
        "a = 'A73, CD'\n",
        "a = a + ', EPG'\n",
        "a"
      ],
      "metadata": {
        "id": "0NxHdykTvTXy"
      },
      "execution_count": null,
      "outputs": []
    },
    {
      "cell_type": "code",
      "source": [
        "A = [ [1, 0], [0, 1] ]\n",
        "B = [ [1, 1], [1, 1] ] \n",
        "\n",
        "A + B\n"
      ],
      "metadata": {
        "id": "HM2qh5Jjb3om"
      },
      "execution_count": null,
      "outputs": []
    },
    {
      "cell_type": "code",
      "source": [
        "import numpy as np\n",
        "A = np.array([ [1, 0], [0, 1] ])\n",
        "B = np.array([ [1, 1], [1, 1] ])\n",
        "\n",
        "A + B"
      ],
      "metadata": {
        "id": "BcqkBdW5b-Ma"
      },
      "execution_count": null,
      "outputs": []
    },
    {
      "cell_type": "code",
      "source": [
        "import numpy as np\n",
        "A = np.array([1, 2, 3])\n",
        "B = np.array([4, 5, 6])\n",
        "print(\"A ==\", A, \", B ==\", B)\n",
        "print(\"A.shape ==\", A.shape, \", B.shape ==\", B.shape)\n",
        "print(\"A.ndim ==\", A.ndim, \", B.ndim ==\", B.ndim)\n"
      ],
      "metadata": {
        "id": "Si2j6EwvcsBi"
      },
      "execution_count": null,
      "outputs": []
    },
    {
      "cell_type": "code",
      "source": [
        "print(\"A + B ==\", A+B)\n",
        "print(\"A - B ==\", A-B)\n",
        "print(\"A * B ==\", A*B)\n",
        "print(\"A / B ==\", A/B)"
      ],
      "metadata": {
        "id": "DTYJ7PqpeIf0"
      },
      "execution_count": null,
      "outputs": []
    },
    {
      "cell_type": "code",
      "source": [
        ""
      ],
      "metadata": {
        "id": "PWlPbaAQlg9n"
      },
      "execution_count": null,
      "outputs": []
    },
    {
      "cell_type": "code",
      "source": [
        "A = np.array( [ [1, 2, 3], [4, 5, 6] ])\n",
        "B = np.array( [ [-1, -2, -3], [-4, -5, -6] ])\n",
        "print(\"A.shape ==\", A.shape, \", B.shape ==\", B.shape)\n",
        "print(\"A.ndim ==\", A.ndim, \", B.ndim ==\", B.ndim)"
      ],
      "metadata": {
        "id": "TksMWIFjemYY"
      },
      "execution_count": null,
      "outputs": []
    },
    {
      "cell_type": "code",
      "source": [
        "C = np.array([1, 2, 3])\n",
        "print(\"C.shape ==\", C.shape)\n",
        "C = C.reshape(1, 3)\n",
        "print(\"C.shape ==\", C.shape)"
      ],
      "metadata": {
        "id": "uNfwJRCdgCOX"
      },
      "execution_count": null,
      "outputs": []
    },
    {
      "cell_type": "code",
      "source": [
        "import numpy as np\n",
        "A = np.array([ [1, 2, 3], [4, 5, 6] ])\n",
        "B = np.array([ [-1, -2], [-3, -4], [-5, -6] ])\n",
        "C = np.dot(A, B)\n",
        "print(\"A.shape ==\", A.shape, \", B.shape ==\", B.shape)\n",
        "print(\"C.shape ==\", C.shape)\n",
        "print(C)"
      ],
      "metadata": {
        "id": "7pI1wqHGigLm"
      },
      "execution_count": null,
      "outputs": []
    },
    {
      "cell_type": "code",
      "source": [
        "A = np.array([ [1, 2], [3, 4] ])\n",
        "b = 5\n",
        "print(A+b)"
      ],
      "metadata": {
        "id": "flhuF1E2liXW"
      },
      "execution_count": null,
      "outputs": []
    },
    {
      "cell_type": "code",
      "source": [
        "A = np.array([ [1, 2], [3, 4], [5, 6] ])\n",
        "B = A.T\n",
        "print(\"A.shape ==\", A.shape, \", B.shape ==\", B.shape)\n",
        "print(A)\n",
        "print(B)"
      ],
      "metadata": {
        "id": "vwKUpvyFSYCo"
      },
      "execution_count": null,
      "outputs": []
    },
    {
      "cell_type": "code",
      "source": [
        "import numpy as np\n",
        "C = np.array([1, 2, 3, 4, 5])\n",
        "D = C.T\n",
        "E = C.reshape(1, 5)\n",
        "F = E.T\n",
        "print(\"C.shape ==\", C.shape, \", D.shape ==\", D.shape)\n",
        "print(\"E.shape ==\", E.shape, \", F.shape ==\", F.shape)\n",
        "print(F)"
      ],
      "metadata": {
        "id": "APaPzRFmWhi0"
      },
      "execution_count": null,
      "outputs": []
    },
    {
      "cell_type": "code",
      "source": [
        "a = int(10)\n",
        "a"
      ],
      "metadata": {
        "id": "HbOjLSywuWAG"
      },
      "execution_count": null,
      "outputs": []
    },
    {
      "cell_type": "code",
      "source": [
        "b = list(range(10))\n",
        "b"
      ],
      "metadata": {
        "id": "qrWdYfTLMED4"
      },
      "execution_count": null,
      "outputs": []
    },
    {
      "cell_type": "code",
      "source": [
        "c = dict(x=10, y=20)\n",
        "c"
      ],
      "metadata": {
        "id": "Av15mXu-MXNm"
      },
      "execution_count": null,
      "outputs": []
    },
    {
      "cell_type": "code",
      "source": [
        "b = list(range(10))\n",
        "b.append(20)\n",
        "b"
      ],
      "metadata": {
        "id": "UuVYkKTzMzxz"
      },
      "execution_count": null,
      "outputs": []
    },
    {
      "cell_type": "code",
      "source": [
        "a = 10 \n",
        "type(a)\n"
      ],
      "metadata": {
        "id": "7v21t6c4MXVx"
      },
      "execution_count": null,
      "outputs": []
    },
    {
      "cell_type": "code",
      "source": [
        "b = [0, 1, 2] \n",
        "type(b)\n"
      ],
      "metadata": {
        "id": "e5VC5DblMXi3"
      },
      "execution_count": null,
      "outputs": []
    },
    {
      "cell_type": "code",
      "source": [
        "c = {'x':10, 'y':20}\n",
        "type(c)"
      ],
      "metadata": {
        "id": "ydj3qsc-NUUG"
      },
      "execution_count": null,
      "outputs": []
    },
    {
      "cell_type": "code",
      "source": [
        "a = list(range(10))\n",
        "b = list(range(20))"
      ],
      "metadata": {
        "id": "yG7JXK4lNUcW"
      },
      "execution_count": null,
      "outputs": []
    },
    {
      "cell_type": "code",
      "source": [
        "class Person:\n",
        "  def __init__(self, name, age, address):\n",
        "    self.hello = 'snu'\n",
        "    self.name = name\n",
        "    self. age = age\n",
        "    self.address = address\n",
        "    def greeting(self):\n",
        "      print('{0} Bi {1}bn.'.format(self.hello, elf.name))\n",
        "      tuul = Person('tuul', 25, 'ulaanbaatar')\n",
        "      tuul.greeting()\n",
        "      print('ner:', tuul.name)\n",
        "      print('nas:', tuul.age)\n",
        "      print('hayag:', tuul.address)"
      ],
      "metadata": {
        "id": "j33SEaVZNUiO"
      },
      "execution_count": null,
      "outputs": []
    },
    {
      "cell_type": "code",
      "source": [
        "class Person:\n",
        "  def __init__(self, name, age, address, wallet):\n",
        "    self = name\n",
        "    self = age\n",
        "    self.address = address\n",
        "    self. __wallet = __wallet\n",
        "    maria = Person('maria', 20, 'ulaanbaatar', 1000)\n",
        "    maria.__wallet -= 1000\n"
      ],
      "metadata": {
        "id": "AI9SrTQuNUkK"
      },
      "execution_count": null,
      "outputs": []
    },
    {
      "cell_type": "code",
      "source": [
        "class Person:\n",
        "  bag = []\n",
        "  def put_bag(self, stuff):\n",
        "    self.bag.append(stuff)\n",
        "    james = Person()\n",
        "    james.put_bag('book')\n",
        "    maria = Person()\n",
        "    maria.put_bag('key')\n",
        "    print(james.bag)\n",
        "    print(maria.bag)\n"
      ],
      "metadata": {
        "id": "hoeK8iycVaMA"
      },
      "execution_count": null,
      "outputs": []
    },
    {
      "cell_type": "code",
      "source": [
        "class Calc: \n",
        "  @staticmethod\n",
        "  def add(a, b):\n",
        "    print(a + b)\n",
        "    @staticmethod\n",
        "    def mul(a, b):\n",
        "      print(a * b)\n",
        "      Calc.add(10, 20)\n",
        "      Calc.add(10, 20)"
      ],
      "metadata": {
        "id": "QfWRqokJYHm9"
      },
      "execution_count": null,
      "outputs": []
    },
    {
      "cell_type": "code",
      "source": [
        "import pandas as pd\n",
        "df = pd.read_csv(\"fluence.csv\")\n",
        "df.head()"
      ],
      "metadata": {
        "id": "iIf1FcpFHHoO"
      },
      "execution_count": null,
      "outputs": []
    },
    {
      "cell_type": "code",
      "source": [
        "import matplotlib.pyplot as plt\n",
        "%matplotlib inline\n"
      ],
      "metadata": {
        "id": "kbith5ffpZ4h"
      },
      "execution_count": null,
      "outputs": []
    },
    {
      "cell_type": "markdown",
      "source": [
        "# New Section"
      ],
      "metadata": {
        "id": "kvIZCI_6HJZh"
      }
    },
    {
      "cell_type": "code",
      "source": [
        "a = {1, 2, 3, 4}\n",
        "a.update({5})\n",
        "a"
      ],
      "metadata": {
        "id": "NoYZUD-JYH0M"
      },
      "execution_count": null,
      "outputs": []
    },
    {
      "cell_type": "code",
      "source": [
        "A = np.array([10, 20, 30, 40, 50, 60]).reshape(3, 2)\n",
        "print(\"A.shape ==\", A.shape)\n",
        "print(A)\n",
        "\n"
      ],
      "metadata": {
        "id": "9UwWqjn4aB9B"
      },
      "execution_count": null,
      "outputs": []
    },
    {
      "cell_type": "code",
      "source": [
        "print(\"A[0, 0] ==\", A[0, 0], \"A[0][0] ==\", A[0][0])\n",
        "print(\"A[2, 1] ==\", A[2, 1], \", A[2][1] ==\", A[2][1])\n",
        "print(\"A[0:-1, 1:2] ==\", A[0:-1, 1:2])\n",
        "print(\"A[ :, 0] ==\", A[:, 0])\n",
        "print(\"A[ :, :] ==\", A[:, :])"
      ],
      "metadata": {
        "id": "7utqCiiTtXBq"
      },
      "execution_count": null,
      "outputs": []
    },
    {
      "cell_type": "code",
      "source": [
        "import numpy as np\n",
        "import matplotlib.pyplot as plt\n",
        "from mpl_toolkits import mplot3d\n",
        "fig = plt.figure(figsize=(7, 7))\n",
        "ax = plt.axes(projection='3d')\n",
        "ax.xaxis.set_tick_params(labelsize=15)\n",
        "ax.yaxis.set_tick_params(labelsize=15)\n",
        "ax.zaxis.set_tick_params(labelsize=15)\n",
        "ax.set_xlabel(r'$x$', fontsize=20)\n",
        "ax.set_ylabel(r'$y$', fontsize=20)\n",
        "ax.set_zlabel(r'$z$', fontsize=20)\n",
        "u = np.linspace(0, 1, 30)\n",
        "v = np.linspace(0, 1, 30)\n",
        "U, V = np.meshgrid(u, v)\n",
        "X = U\n",
        "Y = V\n",
        "Z = (1+U**2) + (V/(1+V**2))\n",
        "ax.scatter3D(X, Y, Z, marker='.', color='blue')\n",
        "plt.show()"
      ],
      "metadata": {
        "id": "gxeu72mFwH2b"
      },
      "execution_count": null,
      "outputs": []
    },
    {
      "cell_type": "code",
      "source": [
        "import numpy as np\n",
        "import matplotlib.pyplot as plt\n",
        "from mpl_toolkits import mplot3d\n",
        "fig = plt.figure(figsize=(7, 7))\n",
        "ax = plt.axes(projection='3d')\n",
        "ax.xaxis.set_tick_params(labelsize=15)\n",
        "ax.yaxis.set_tick_params(labelsize=15)\n",
        "ax.zaxis.set_tick_params(labelsize=15)\n",
        "ax.set_xlabel(r'$x$', fontsize=20)\n",
        "ax.set_ylabel(r'$y$', fontsize=20)\n",
        "ax.set_zlabel(r'$z$', fontsize=20)\n",
        "u = np.linspace(0, 1, )\n",
        "v = np.linspace(0, 1, 30)\n",
        "U, V = np.meshgrid(u, v)\n",
        "X = U\n",
        "Y = V\n",
        "Z = (1+U**2) + (V/(1+V**2))\n",
        "ax.scatter3D(X, Y, Z, marker='.', color='blue')\n",
        "plt.show()"
      ],
      "metadata": {
        "id": "fCA4diSMXV61"
      },
      "execution_count": null,
      "outputs": []
    },
    {
      "cell_type": "code",
      "source": [
        "import numpy as np\n",
        "\n",
        "import matplotlib.pyplot as plt\n",
        "\n",
        "from mpl_toolkits import mplot3d\n",
        "\n",
        " \n",
        "\n",
        "plt.figure(figsize=(10,10))\n",
        "\n",
        " \n",
        "\n",
        "ax=plt.axes(projection='3d')\n",
        "\n",
        "ax.xaxis.set_tick_params(labelsize=15)\n",
        "\n",
        "ax.yaxis.set_tick_params(labelsize=15)\n",
        "\n",
        "ax.zaxis.set_tick_params(labelsize=15)\n",
        "\n",
        "ax.set_xlabel(r\"$x_1$\",fontsize=20)\n",
        "\n",
        "ax.set_ylabel(r\"$y_2$\",fontsize=20)\n",
        "\n",
        "ax.set_zlabel(r\"$z1$\",fontsize=20)\n",
        "\n",
        " \n",
        "\n",
        "# scan speed 0.2~0.5 Meter/S)\n",
        "\n",
        "v=np.linspace(0.2,0.4, 10)\n",
        "\n",
        " \n",
        "\n",
        "    \n",
        "\n",
        " \n",
        "\n",
        "# Repetition Rate 0.1~1MHz)\n",
        "\n",
        "f=np.linspace(500000,1000000, 50)\n",
        "\n",
        " \n",
        "\n",
        "v,f =np.meshgrid(v,f)\n",
        "\n",
        " \n",
        "\n",
        "Z =(1-(v/f*100000))*100\n",
        "\n",
        " \n",
        "\n",
        "ax.scatter3D(v,f,Z, marker=\",\",color ='gray')\n",
        "\n",
        " \n",
        "\n",
        "ax.plot_surface(v,f,Z,cmap=plt.cm.binary,edgecolor=\"k\")\n",
        "\n",
        " \n",
        "\n",
        "plt.show()"
      ],
      "metadata": {
        "id": "4Pv4kUH29-aZ"
      },
      "execution_count": null,
      "outputs": []
    },
    {
      "cell_type": "code",
      "source": [
        "n = int(input())\n",
        "text = input()\n",
        "words = text.split()\n",
        "if (len(words) < n):\n",
        "    print('wrong')\n",
        "else:\n",
        "  n_gram = zip(*[words[i:] for i in range(n)])"
      ],
      "metadata": {
        "id": "rHHuFVRsmTm0"
      },
      "execution_count": null,
      "outputs": []
    },
    {
      "cell_type": "code",
      "source": [
        "import numpy as np\n",
        "a1 = np.array([1, 2, 3, 4, 5])\n",
        "print(a1)\n",
        "print(type(a1))\n",
        "print(a1.shape)\n",
        "print(a1[0], a1[1], a1[2], a1[3], a1[4])\n",
        "a1[0] = 5\n",
        "a1[1] = 6\n",
        "a1[2] = 7\n",
        "print(a1)"
      ],
      "metadata": {
        "id": "QbKDF-4FpYq-"
      },
      "execution_count": null,
      "outputs": []
    },
    {
      "cell_type": "code",
      "source": [
        "a2 = np.arrray([ [1, 2, 3], [4, 5, 6], [7, 8, 9] ])\n",
        "print(a2)\n",
        "print(a2.shape)\n",
        "print(a2[0, 0], a2[1, 1], a2[2, 2])"
      ],
      "metadata": {
        "id": "g9kw7L8L0KyC"
      },
      "execution_count": null,
      "outputs": []
    },
    {
      "cell_type": "code",
      "source": [
        "a3 = np.array([ [ [1, 2, 3], [4, 5, 6], [7, 8, 9] ],\n",
        "                [ [1, 2, 3], [4, 5, 6], [7, 8, 9] ],\n",
        "                [ [1, 2, 3], [4, 5, 6], [7, 8, 9] ] ]) \n",
        "print(a3)\n",
        "print(a3.shape)"
      ],
      "metadata": {
        "id": "ESOYk94w2tDm"
      },
      "execution_count": null,
      "outputs": []
    },
    {
      "cell_type": "code",
      "source": [
        "np.full((3, 3), 1.23)"
      ],
      "metadata": {
        "id": "EVx1lFxJ43q3"
      },
      "execution_count": null,
      "outputs": []
    },
    {
      "cell_type": "code",
      "source": [
        "np.eye(3)"
      ],
      "metadata": {
        "id": "MCrmwdOq5CJT"
      },
      "execution_count": null,
      "outputs": []
    },
    {
      "cell_type": "code",
      "source": [
        "np.tri(3)"
      ],
      "metadata": {
        "id": "2TM-xmrj5V_v"
      },
      "execution_count": null,
      "outputs": []
    },
    {
      "cell_type": "code",
      "source": [
        "np.empty(10)"
      ],
      "metadata": {
        "id": "UVSNaESx5uM4"
      },
      "execution_count": null,
      "outputs": []
    },
    {
      "cell_type": "code",
      "source": [
        "print(a2)\n",
        "np.zeros_like(a1)"
      ],
      "metadata": {
        "id": "v9ou7AUbDGUk"
      },
      "execution_count": null,
      "outputs": []
    },
    {
      "cell_type": "code",
      "source": [
        " np.zeros(20, dtype=int)"
      ],
      "metadata": {
        "id": "umrAKbfcDrYl"
      },
      "execution_count": null,
      "outputs": []
    },
    {
      "cell_type": "code",
      "source": [
        "date = np.array('2020-01-01', dtype=np.datetime64)\n",
        "date"
      ],
      "metadata": {
        "id": "RQJaR7tyGFyK"
      },
      "execution_count": null,
      "outputs": []
    },
    {
      "cell_type": "code",
      "source": [
        "array_info(a3))"
      ],
      "metadata": {
        "id": "CbQQIz8rGhGK"
      },
      "execution_count": null,
      "outputs": []
    },
    {
      "cell_type": "code",
      "source": [
        "print(3)\n",
        "print(a3[0, 0, 0])\n",
        "print(a3[1, 1, 1])\n",
        "print(a3[2, 2, 2])\n",
        "print(a3[2, -1, -1])"
      ],
      "metadata": {
        "id": "z359-HpPGhtP"
      },
      "execution_count": null,
      "outputs": []
    },
    {
      "cell_type": "code",
      "source": [
        "print(a1)\n",
        "print([a1[0], a1[2]])\n",
        "ind = [0,2]\n",
        "print(a1[ind])\n",
        "ind = np.array([[0, 1],                                                                                                                                               \n",
        "                [2, 0]])\n",
        "print(a1[ind])"
      ],
      "metadata": {
        "id": "OxtiDAySGhzh"
      },
      "execution_count": null,
      "outputs": []
    },
    {
      "cell_type": "code",
      "source": [
        "print(a1)\n",
        "a1[0] = 1\n",
        "a1[1] = 2\n",
        "a1[2] = 3\n",
        "print(a1)\n",
        "a1[:1] = 9\n",
        "print(a1)\n",
        "i = np.array([1, 3, 4])\n",
        "a1[i] = 0\n",
        "print(a1)\n",
        "a1[i] += 4\n",
        "print(a1)"
      ],
      "metadata": {
        "id": "Ju24IxGRGh4U"
      },
      "execution_count": null,
      "outputs": []
    },
    {
      "cell_type": "code",
      "source": [
        "print(a1)\n",
        "b1 = np.delete(a1, 1)\n",
        "print(b1)\n",
        "print(a1)"
      ],
      "metadata": {
        "id": "wfxtzAL6Gh8B"
      },
      "execution_count": null,
      "outputs": []
    },
    {
      "cell_type": "code",
      "source": [
        "print(a2)\n",
        "print(a2[:2, :2])\n",
        "a2_sub = a2[:2, :2]\n",
        "print(a2_sub)\n"
      ],
      "metadata": {
        "id": "JpnMf2QkfBBa"
      },
      "execution_count": null,
      "outputs": []
    },
    {
      "cell_type": "code",
      "source": [
        "n1 = np.arange(1, 10)\n",
        "print(n1)\n",
        "print(n1.reshape(3, 3))"
      ],
      "metadata": {
        "id": "osw68jwhgigs"
      },
      "execution_count": null,
      "outputs": []
    },
    {
      "cell_type": "code",
      "source": [
        "print(n1)\n",
        "print(n1[np.newaxis, :5])\n",
        "print(n1[:5, np.newaxis])"
      ],
      "metadata": {
        "id": "-C111xT1gikC"
      },
      "execution_count": null,
      "outputs": []
    },
    {
      "cell_type": "code",
      "source": [
        "n2 = np.random.randint(0, 10, (2, 5))\n",
        "print(n2)\n",
        "n2.resize((5, 2))\n",
        "print(n2)"
      ],
      "metadata": {
        "id": "76r7MaZZgiqy"
      },
      "execution_count": null,
      "outputs": []
    },
    {
      "cell_type": "code",
      "source": [
        "a2 = np.arange(1, 10).reshape(3, 3)\n",
        "print(a2)\n",
        "b2 = np.arange(10, 19).reshape(3, 3)\n",
        "print(b2)"
      ],
      "metadata": {
        "id": "GjCgKb-QiuPo"
      },
      "execution_count": null,
      "outputs": []
    },
    {
      "cell_type": "code",
      "source": [
        "c2 = np.append(a2, b2)\n",
        "print(c2)"
      ],
      "metadata": {
        "id": "yr8-Zhe-lmTt"
      },
      "execution_count": null,
      "outputs": []
    },
    {
      "cell_type": "code",
      "source": [
        "c2 = np.append(a2, b2, axis=0)\n",
        "print(c2)"
      ],
      "metadata": {
        "id": "lbFl4ve1lmap"
      },
      "execution_count": null,
      "outputs": []
    },
    {
      "cell_type": "code",
      "source": [
        "c2 = np.append(a2, b2, axis=1)\n",
        "print(c2)"
      ],
      "metadata": {
        "id": "6Ja3JH4QmNLJ"
      },
      "execution_count": null,
      "outputs": []
    },
    {
      "cell_type": "code",
      "source": [
        "a1 = np.array([1, 3, 5])\n",
        "b1 = np.array([2, 4, 6])\n",
        "np.concatenate([a1, b1])\n"
      ],
      "metadata": {
        "id": "vZ5PBn4PnAZw"
      },
      "execution_count": null,
      "outputs": []
    },
    {
      "cell_type": "code",
      "source": [
        "c2 = np.array([7, 8, 9])\n",
        "np.concatenate([a1, b1, c1])\n"
      ],
      "metadata": {
        "id": "WoZW5ka9ngF6"
      },
      "execution_count": null,
      "outputs": []
    },
    {
      "cell_type": "code",
      "source": [
        "np.vstack([a2, a2])"
      ],
      "metadata": {
        "id": "k6n8aY6HpPf3"
      },
      "execution_count": null,
      "outputs": []
    },
    {
      "cell_type": "code",
      "source": [
        "np.hstack([a2, a2])"
      ],
      "metadata": {
        "id": "FiqkodYAqMpB"
      },
      "execution_count": null,
      "outputs": []
    },
    {
      "cell_type": "code",
      "source": [
        "np.dstack([a2, a2])"
      ],
      "metadata": {
        "id": "I-jj6AU-qWC8"
      },
      "execution_count": null,
      "outputs": []
    },
    {
      "cell_type": "code",
      "source": [
        "np.stack([a2, a2])"
      ],
      "metadata": {
        "id": "cBEtzwSAqWMM"
      },
      "execution_count": null,
      "outputs": []
    },
    {
      "cell_type": "code",
      "source": [
        "a1 = np.arange(0, 10)\n",
        "print(a1)\n",
        "b1, c1 = np.split(a1, [5])\n",
        "print(b1, c1)"
      ],
      "metadata": {
        "id": "PebvoqLzq9Kk"
      },
      "execution_count": null,
      "outputs": []
    },
    {
      "cell_type": "code",
      "source": [
        "a2 = np.arange(1, 10).reshape(3, 3)\n",
        "print(a2)\n",
        "b2, c2 = np.vsplit(a2, [2])\n",
        "print(b2)\n",
        "print(2)"
      ],
      "metadata": {
        "id": "nEM5uGDNrg6l"
      },
      "execution_count": null,
      "outputs": []
    },
    {
      "cell_type": "code",
      "source": [
        "a2 = np.arange(1, 10).reshape(3, 3)\n",
        "print(a2)\n",
        "b2, c2 = np.hsplit(a2, [2])\n",
        "print(b2)\n",
        "print(2)"
      ],
      "metadata": {
        "id": "MX_JyDgjVnBo"
      },
      "execution_count": null,
      "outputs": []
    },
    {
      "cell_type": "code",
      "source": [
        "a3 = np.arange(1, 28).reshape(3, 3, 3)\n",
        "print(a3)\n",
        "b3, c3 = np.dsplit(a3, [2])\n",
        "print(b3)\n",
        "print(c3)"
      ],
      "metadata": {
        "id": "cN7bTHszWGiR"
      },
      "execution_count": null,
      "outputs": []
    },
    {
      "cell_type": "code",
      "source": [
        "a1 = array([1, 2, 3])\n",
        "print(a1)\n",
        "print(a1 + 5)\n",
        "a2 = np.arange(1, 10).reshape(3, 3)\n",
        "print(a2)\n",
        "print(a1 + a2)"
      ],
      "metadata": {
        "id": "Hm_ELZaJXI7l"
      },
      "execution_count": null,
      "outputs": []
    },
    {
      "cell_type": "code",
      "source": [
        "import numpy as np\n",
        "a1 = np.arange(1, 10)\n",
        "print(a1)\n",
        "print(a1+1)\n",
        "print(np.add(a1, 10))\n",
        "print(a1 - 2)\n",
        "print(np.subtract(a1, 10))\n",
        "print()"
      ],
      "metadata": {
        "id": "zRIDoEGyieIA"
      },
      "execution_count": null,
      "outputs": []
    },
    {
      "cell_type": "code",
      "source": [
        "a2 = np.arange(1, 10).reshape(3, 3)\n",
        "print(a2)\n",
        "b1 = np.random.randint(1, 10, size=(3, 3))\n",
        "print(b2)\n",
        "print(a2 * b2)\n",
        "print(a2 - b2)\n",
        "print(a2 + b2)\n",
        "print(a2 / b2)\n",
        "print(a2 ** b2)\n",
        "print(a2 % b2)"
      ],
      "metadata": {
        "id": "o7vfHlukAnGk"
      },
      "execution_count": null,
      "outputs": []
    },
    {
      "cell_type": "code",
      "source": [
        "a1 = np.random.randint(1, 10, size=5)\n",
        "print(a1)\n",
        "print(np.exp(a1))\n",
        "print(np.exp2(a1))\n",
        "print(np.power(a1, 2))"
      ],
      "metadata": {
        "id": "na-km_3EF6zz"
      },
      "execution_count": null,
      "outputs": []
    },
    {
      "cell_type": "code",
      "source": [
        "print(a1)\n",
        "print(np.log(a1))\n",
        "print(np.log2(a1))\n",
        "print(np.log10(a1))"
      ],
      "metadata": {
        "id": "hTZUhNToGheb"
      },
      "execution_count": null,
      "outputs": []
    },
    {
      "cell_type": "code",
      "source": [
        "\n",
        "t = np.linspace(0, np.pi, 3)\n",
        "print(t)\n",
        "print(np.sin(t))\n",
        "print(np.cos(t))\n",
        "print(np.tan(t))"
      ],
      "metadata": {
        "id": "P47rqQrzHHpw"
      },
      "execution_count": null,
      "outputs": []
    },
    {
      "cell_type": "code",
      "source": [
        "a2 = np.random.randint(1, 10, (3, 3))\n",
        "print(a2)\n",
        "print(a2.sum(), np.sum(a2))"
      ],
      "metadata": {
        "id": "EBrxb7qSIQxc"
      },
      "execution_count": null,
      "outputs": []
    },
    {
      "cell_type": "markdown",
      "source": [
        "# New Section"
      ],
      "metadata": {
        "id": "rCD1uY-lAPcA"
      }
    },
    {
      "cell_type": "markdown",
      "source": [
        "# New Section"
      ],
      "metadata": {
        "id": "2909rJUkOZIf"
      }
    },
    {
      "cell_type": "code",
      "source": [
        "def personal_info(name, age, address):\n",
        "print(name)\n",
        "print('나이:', age)\n",
        "print('주소:', address)"
      ],
      "metadata": {
        "id": "f8nomZ4S9Z9j"
      },
      "execution_count": null,
      "outputs": []
    },
    {
      "cell_type": "code",
      "source": [
        "x = {'name': '토올', 'age': 25, 'address': 'ulaanbaatar'}\n",
        "personal_info(**x)"
      ],
      "metadata": {
        "id": "vUDVE6TO-x2i"
      },
      "execution_count": null,
      "outputs": []
    },
    {
      "cell_type": "code",
      "source": [
        "korean, english, mathematics, science = 100, 86, 81, 91\n",
        "def get_max_score(*args):\n",
        "  return max(args)\n",
        "max_score = get_max_score(korean, english, mathematics, science)\n",
        "print(max_score)\n",
        "max_score = get_max_score(english, science)\n",
        "print(max_score)"
      ],
      "metadata": {
        "id": "ajRTkYHvA1HK"
      },
      "execution_count": null,
      "outputs": []
    },
    {
      "cell_type": "code",
      "source": [
        "def hello(count):\n",
        "  if count == 0:\n",
        "    return\n",
        "    print('Hello, world!', count)\n",
        "    count -= 1\n",
        "    hello(count)\n",
        "    \n",
        "hello(5)"
      ],
      "metadata": {
        "id": "TxuADiSgC2kf"
      },
      "execution_count": null,
      "outputs": []
    },
    {
      "cell_type": "code",
      "source": [
        "def factorial(n):\n",
        "if n == 1:\n",
        "  return 1\n",
        "  return n * factorial(n - 1)\n",
        "  print(factorial(5))"
      ],
      "metadata": {
        "id": "JnASyBC6E5Ey"
      },
      "execution_count": null,
      "outputs": []
    },
    {
      "cell_type": "code",
      "source": [
        "def is_palindrome(word):\n",
        "if len(word) < 2:\n",
        "  return True\n",
        "if word[0] != word[-1]\n",
        "return False\n",
        "return is_palindrome(word[1:-1])  \n",
        "  print(is_palidrome('hello'))\n",
        "  print(is_palindmore('level'))"
      ],
      "metadata": {
        "id": "M_ejWojPE4-r"
      },
      "execution_count": null,
      "outputs": []
    },
    {
      "cell_type": "code",
      "source": [
        "def plus_ten(x):\n",
        "  return x + 10\n",
        "plus_ten(1)"
      ],
      "metadata": {
        "id": "erHHEYeJKATt"
      },
      "execution_count": null,
      "outputs": []
    },
    {
      "cell_type": "code",
      "source": [
        "lambda x: x + 10\n"
      ],
      "metadata": {
        "id": "LySqTxr6Pn3K"
      },
      "execution_count": null,
      "outputs": []
    },
    {
      "cell_type": "code",
      "source": [
        "plus_ten = lambda x: x + 10\n",
        "plus_ten(1)\n"
      ],
      "metadata": {
        "id": "2BZYqkSuPn0B"
      },
      "execution_count": null,
      "outputs": []
    },
    {
      "cell_type": "code",
      "source": [
        "(lambda x: x + 10)(1)"
      ],
      "metadata": {
        "id": "PwEiTiJ-Pnut"
      },
      "execution_count": null,
      "outputs": []
    },
    {
      "cell_type": "code",
      "source": [
        "y = 10\n",
        "(lambda x: x + y)(1)\n"
      ],
      "metadata": {
        "id": "_SiE5WTGQ2UQ"
      },
      "execution_count": null,
      "outputs": []
    },
    {
      "cell_type": "code",
      "source": [
        "def plus_ten(x):\n",
        "  return x + 10\n",
        "list(map(plus_ten, [1, 2, 3]))\n"
      ],
      "metadata": {
        "id": "psbyzG3FRYQo"
      },
      "execution_count": null,
      "outputs": []
    },
    {
      "cell_type": "code",
      "source": [
        "a = [1, 2, 3, 4, 5, 6, 7, 8, 9, 10]\n",
        "list(map(lambda x: str(x) if x % 3))"
      ],
      "metadata": {
        "id": "viZX3LqaVVxM"
      },
      "execution_count": null,
      "outputs": []
    },
    {
      "cell_type": "code",
      "source": [
        "list(map(lambda x : str(x) if x % 3 == 0, a))"
      ],
      "metadata": {
        "id": "t5pArMrlSiSG"
      },
      "execution_count": null,
      "outputs": []
    },
    {
      "cell_type": "code",
      "source": [
        "def f(x):\n",
        "if x == 1:\n",
        "  return str(x)\n",
        "elif x ==2:\n",
        "    return float(x)\n",
        "else:\n",
        "    return x + 10"
      ],
      "metadata": {
        "id": "BfZlvb4tSeJo"
      },
      "execution_count": null,
      "outputs": []
    },
    {
      "cell_type": "code",
      "source": [
        "a = [1, 2, 3, 4, 5]\n",
        "b = [2, 4, 6, 8, 10]\n",
        "list(map(lambda x, y: x * y, a, b))"
      ],
      "metadata": {
        "id": "hR5qV9VFSd81"
      },
      "execution_count": null,
      "outputs": []
    },
    {
      "cell_type": "code",
      "source": [
        "def f(x):\n",
        " return x > 5 and x < 10\n",
        " \n",
        "a = [8, 3, 2, 10, 15, 7, 1, 9, 0, 11]\n",
        "list(filter(f, a))"
      ],
      "metadata": {
        "id": "Y4vsuonTUA-d"
      },
      "execution_count": null,
      "outputs": []
    },
    {
      "cell_type": "code",
      "source": [
        "def f(x, y):\n",
        "   return x + y\n",
        "a = [1, 2, 3, 4, 5]\n",
        "from functools import reduce\n",
        "reduce(f, a)"
      ],
      "metadata": {
        "id": "HVLvb6ifUAz6"
      },
      "execution_count": null,
      "outputs": []
    },
    {
      "cell_type": "code",
      "source": [
        "a = [1, 2, 3, 4, 5]\n",
        "from functools import reduce\n",
        "reduce(lambda x, y: x + y, a)\n"
      ],
      "metadata": {
        "id": "onMUw9oGVIDW"
      },
      "execution_count": null,
      "outputs": []
    },
    {
      "cell_type": "code",
      "source": [
        "def foo():\n",
        "  x = 10\n",
        "  print(x)\n",
        "foo()\n",
        "print(x)"
      ],
      "metadata": {
        "id": "6ZiCGhnJVoGM"
      },
      "execution_count": null,
      "outputs": []
    },
    {
      "cell_type": "code",
      "source": [
        "x = 10\n",
        "def foo():\n",
        "  x = 20\n",
        "  print(x)\n",
        "foo()\n",
        "print(x)"
      ],
      "metadata": {
        "id": "W9QPUSHOVwhX"
      },
      "execution_count": null,
      "outputs": []
    },
    {
      "cell_type": "code",
      "source": [
        "x = 10\n",
        "def foo():\n",
        "  global x\n",
        "  x = 20\n",
        "  print(x)\n",
        "foo()\n",
        "print(x)  "
      ],
      "metadata": {
        "id": "fteHkT_YW1FN"
      },
      "execution_count": null,
      "outputs": []
    },
    {
      "cell_type": "code",
      "source": [
        "import numpy as np\n",
        "array1 = np.array([1, 2, 3, 4])\n",
        "array2 = array1.reshape((2, 2))\n",
        "\n",
        "print(array2.shape)"
      ],
      "metadata": {
        "id": "egcd8iCFXs1W"
      },
      "execution_count": null,
      "outputs": []
    },
    {
      "cell_type": "code",
      "source": [
        "array = np.arange(8).reshape(2, 4)\n",
        "left, right = np.split(array, [2], axis=1)\n",
        "print(left.shape)\n",
        "print(right.shape)\n",
        "print(array)\n",
        "print(left)\n"
      ],
      "metadata": {
        "id": "jk11MT4qY-nI"
      },
      "execution_count": null,
      "outputs": []
    },
    {
      "cell_type": "code",
      "source": [
        "array = np.arange(8).reshape(2, 4)\n",
        "left, right = np.split(array, [2], axis=1)\n",
        "print(left.shape)\n",
        "print(right.shape)\n",
        "print(right[1][1])"
      ],
      "metadata": {
        "id": "oF6ujy68acki"
      },
      "execution_count": null,
      "outputs": []
    },
    {
      "cell_type": "code",
      "source": [
        "data1 = [1,2,3,4,5]\n",
        "arr1 = np.array(data1)\n",
        "data1"
      ],
      "metadata": {
        "id": "dunpNMWEaccA"
      },
      "execution_count": null,
      "outputs": []
    },
    {
      "cell_type": "code",
      "source": [
        "arr4 = np.array([[1,2,3],[4,5,6],[7,8,9],[10,11,12]])\n",
        "arr4.shape"
      ],
      "metadata": {
        "id": "pzSxSCUndQWo"
      },
      "execution_count": null,
      "outputs": []
    },
    {
      "cell_type": "code",
      "source": [
        "np.zeros((3,4))"
      ],
      "metadata": {
        "id": "kKgDS5ajeQM9"
      },
      "execution_count": null,
      "outputs": []
    },
    {
      "cell_type": "code",
      "source": [
        "np.zeros((3,4)).dtype"
      ],
      "metadata": {
        "id": "obLNP37zgH4R"
      },
      "execution_count": null,
      "outputs": []
    },
    {
      "cell_type": "code",
      "source": [
        "np.arange(3, 10)"
      ],
      "metadata": {
        "id": "gV6SUiJ_gHso"
      },
      "execution_count": null,
      "outputs": []
    },
    {
      "cell_type": "code",
      "source": [
        "def A():\n",
        "  x = 10\n",
        "  def B():\n",
        "    x = 20\n",
        "\n",
        "   B()\n",
        "   print(x)\n",
        "   \n",
        "A()"
      ],
      "metadata": {
        "id": "Q6GA8FB0hQAQ"
      },
      "execution_count": null,
      "outputs": []
    },
    {
      "cell_type": "code",
      "source": [
        "def A():\n",
        "  x = 10 \n",
        "  def B():\n",
        "    nonlocal x\n",
        "    x = 20\n",
        "\n",
        "  B()\n",
        "  print(x)\n",
        "A()"
      ],
      "metadata": {
        "id": "iLUWGQAahPv9"
      },
      "execution_count": null,
      "outputs": []
    },
    {
      "cell_type": "code",
      "source": [
        "A = np.arange(2*3*4).reshape((2,3,4))\n",
        "B = np.arange(2*3*4).reshape((2,4,3))\n",
        "print(A)\n",
        "print(\"---------\")\n",
        "print(B2)"
      ],
      "metadata": {
        "id": "MLIODaTmoLBR"
      },
      "execution_count": null,
      "outputs": []
    },
    {
      "cell_type": "code",
      "source": [
        "np.matmul(A, B2)"
      ],
      "metadata": {
        "id": "ZQC1rxaXqxcE"
      },
      "execution_count": null,
      "outputs": []
    },
    {
      "cell_type": "markdown",
      "source": [
        "# New Section"
      ],
      "metadata": {
        "id": "AGEmoZD7NLnC"
      }
    },
    {
      "cell_type": "code",
      "source": [
        "def calc():\n",
        "    a = 3\n",
        "    b = 5\n",
        "    def mul_add(x):\n",
        "        return a * x + b\n",
        "    return mul_add\n",
        "\n",
        "c = calc()\n",
        "print(c(1), c(2), c(3), c(4), c(5))"
      ],
      "metadata": {
        "id": "orBxiueeNMFd"
      },
      "execution_count": null,
      "outputs": []
    },
    {
      "cell_type": "code",
      "source": [
        "def calc():\n",
        "  a = 3\n",
        "  b = 5\n",
        "  total = 0\n",
        "  def mul_add(x):\n",
        "    nonlocal total\n",
        "    total = total + a * x + b\n",
        "    print(total)\n",
        "  return mul_add\n",
        "\n",
        "c = calc()\n",
        "c(1)\n",
        "c(2)\n",
        "c(3)\n"
      ],
      "metadata": {
        "id": "dYRIbrXUN9ew"
      },
      "execution_count": null,
      "outputs": []
    },
    {
      "cell_type": "code",
      "source": [
        "def counter():\n",
        "  i = 0\n",
        "  def count():\n",
        "    nonlocal i\n",
        "    i += 1\n",
        "    return i\n",
        "  return count\n",
        "c = counter()\n",
        "for i in range(10):\n",
        "  print(c(), end='')"
      ],
      "metadata": {
        "id": "9tiWh27tPEuS"
      },
      "execution_count": null,
      "outputs": []
    },
    {
      "cell_type": "code",
      "source": [
        "class Person:\n",
        "  def greeting(self):\n",
        "    print('Hello')"
      ],
      "metadata": {
        "id": "JdMS-Of6QOvs"
      },
      "execution_count": null,
      "outputs": []
    },
    {
      "cell_type": "code",
      "source": [
        "a = int(10)\n",
        "a\n",
        "b = list(range(10))\n",
        "b"
      ],
      "metadata": {
        "id": "M5ygOc3eQjA1"
      },
      "execution_count": null,
      "outputs": []
    },
    {
      "cell_type": "code",
      "source": [
        "b = list(range(10))\n",
        "b.append(20)\n",
        "b"
      ],
      "metadata": {
        "id": "mzXpXVtXRAyd"
      },
      "execution_count": null,
      "outputs": []
    },
    {
      "cell_type": "code",
      "source": [
        "class Point2D:\n",
        "   def __init__(self, x, y):\n",
        "     self.x = x\n",
        "     self.y = y\n",
        "\n",
        "p1 = Point2D(x=30, y=20)\n",
        "p2 = Point2D(x=60, y=50)\n",
        "\n",
        "print('p1: {} {}'.format(p1.x, p1.y))\n",
        "print('p2: {} {}'.format(p2.x, p2.y))\n"
      ],
      "metadata": {
        "id": "WO4uoKN8RViq"
      },
      "execution_count": null,
      "outputs": []
    },
    {
      "cell_type": "code",
      "source": [
        "import math\n",
        "\n",
        "class Point2D:\n",
        "  def __init__(self, x, y):\n",
        "    self.x = x\n",
        "    self.y = y \n",
        "\n",
        "p1 = Point2D(x=30, y=20)\n",
        "p2 = Point2D(x=60, y=50)\n",
        "\n",
        "a = p2.x - p1.x \n",
        "b = p2.y - p1.y \n",
        "\n",
        "c = math.sqrt((a * a) + (b * b))\n",
        "\n"
      ],
      "metadata": {
        "id": "B_TFSqxwUXS5"
      },
      "execution_count": null,
      "outputs": []
    },
    {
      "cell_type": "code",
      "source": [
        ""
      ],
      "metadata": {
        "id": "yHymENoNcENU"
      },
      "execution_count": null,
      "outputs": []
    },
    {
      "cell_type": "code",
      "source": [
        "class Rectangle:\n",
        "  def __init__(self, x1, y1, x2, y2):\n",
        "    self.x1 = x1\n",
        "    self.y1 = y1\n",
        "    self.x2 = x2\n",
        "    self.y2 = y2\n",
        "\n",
        "rect = Rectangle(x1=20, y1=20, x2=40, y2=30)\n",
        "width = abs(rect.x2 - rect.x1)\n",
        "height = abs(rect.y2 - rect.y1)\n",
        "area = width * height\n",
        "print(area)\n"
      ],
      "metadata": {
        "id": "dFJznDCZaStC"
      },
      "execution_count": null,
      "outputs": []
    },
    {
      "cell_type": "code",
      "source": [
        "try:\n",
        "  x = int(input('나눌 숫자를 입력하세요: '))\n",
        "  y = 10 / x \n",
        "except ZerodDivisionError:\n",
        "  print('숫자를 0으로 나눌 수 없습니다.')\n",
        "else:\n",
        "  print(y)"
      ],
      "metadata": {
        "id": "S12dWcisdHak"
      },
      "execution_count": null,
      "outputs": []
    },
    {
      "cell_type": "code",
      "source": [
        "try:\n",
        "  file = open('maria.txt', 'r')\n",
        "except FileNotFoundError:\n",
        "  print('파을이 없습니다.')\n",
        "else:\n",
        "  s = file.read()\n",
        "  file.close()\n"
      ],
      "metadata": {
        "id": "c5tlh5_8gwoQ"
      },
      "execution_count": null,
      "outputs": []
    },
    {
      "cell_type": "code",
      "source": [
        "it = range(3).__iter__()\n",
        "it.__next__()\n"
      ],
      "metadata": {
        "id": "SYWQOaUCiti2"
      },
      "execution_count": null,
      "outputs": []
    },
    {
      "cell_type": "code",
      "source": [
        "it.__next__()"
      ],
      "metadata": {
        "id": "TIh5b8LWi7HD"
      },
      "execution_count": null,
      "outputs": []
    },
    {
      "cell_type": "code",
      "source": [
        "class Counter:\n",
        "  def __init__(self, stop):\n",
        "    self.current = 0\n",
        "    self.stop = stop\n",
        "\n",
        "  def __iter__(self):\n",
        "    return self\n",
        "\n",
        "  def __next__(self):\n",
        "    if self.current < self.stop:\n",
        "      r = self.current\n",
        "      self.current += 1\n",
        "      return r\n",
        "    else:\n",
        "      raise StopIteration\n",
        "\n",
        " for i in Counter(3):\n",
        "   print(i, end=' ')       \n"
      ],
      "metadata": {
        "id": "NO97pAO5jAH4"
      },
      "execution_count": null,
      "outputs": []
    },
    {
      "cell_type": "code",
      "source": [
        "class Counter:\n",
        "  def __init__(self, stop):\n",
        "    self.stop = stop\n",
        "\n",
        "  def __getitem__(self, index):\n",
        "    if index < self.stop:\n",
        "      return index\n",
        "    else:\n",
        "      raise IndexError\n",
        "\n",
        "print(Counter(3)[0], Counter(3)[1], Counter(3)[2])\n",
        "\n",
        "for i in Counter(3):\n",
        "  print(i, end='')"
      ],
      "metadata": {
        "id": "oI71AHQuj3L2"
      },
      "execution_count": null,
      "outputs": []
    },
    {
      "cell_type": "code",
      "source": [
        " it = iter(range(3))\n",
        " next(it)"
      ],
      "metadata": {
        "id": "b-8mQ6P8n9hR"
      },
      "execution_count": null,
      "outputs": []
    },
    {
      "cell_type": "code",
      "source": [
        "next(it)"
      ],
      "metadata": {
        "id": "L60zSw0EzoG7"
      },
      "execution_count": null,
      "outputs": []
    },
    {
      "cell_type": "code",
      "source": [
        "import random\n",
        "for i in iter(lambda : random.randint(0, 5), 2)\n",
        "    print(i, end='')"
      ],
      "metadata": {
        "id": "qyKdgtRkzs-0"
      },
      "execution_count": null,
      "outputs": []
    },
    {
      "cell_type": "code",
      "source": [
        "def number_generator():\n",
        "  yield 0\n",
        "  yield 1\n",
        "  yield 2\n",
        "\n",
        "g = number_generator()\n",
        "\n",
        "a = next(g)\n",
        "print(a)\n",
        "\n",
        "b = next(g)\n",
        "print(b)\n",
        "\n",
        "c = next(g)\n",
        "print(c)"
      ],
      "metadata": {
        "id": "37Nli0gJ1EkI"
      },
      "execution_count": null,
      "outputs": []
    },
    {
      "cell_type": "code",
      "source": [
        "def upper_generator(x):\n",
        "    for i in x:\n",
        "      yield i.upper()\n",
        "\n",
        "friuts = ['apple', 'pear', 'grape', 'pineapple',\n",
        "          'orange'] \n",
        "for i in upper_generator(friuts):\n",
        "    print(i)\n",
        "\n",
        "\n",
        "\n"
      ],
      "metadata": {
        "id": "rEZVkxTL13RA"
      },
      "execution_count": null,
      "outputs": []
    },
    {
      "cell_type": "code",
      "source": [
        "def number_generator():\n",
        "    x = [1, 2, 3]\n",
        "    for i in x:\n",
        "        yield i \n",
        "\n",
        "for i in number_generator():\n",
        "    print(i)        "
      ],
      "metadata": {
        "id": "iQv1SAry3C7P"
      },
      "execution_count": null,
      "outputs": []
    },
    {
      "cell_type": "code",
      "source": [
        "def number_generator():\n",
        "  x = [1, 2, 3]\n",
        "  yield from x \n",
        "\n",
        "for i in number_generator():\n",
        "    print(i)  "
      ],
      "metadata": {
        "id": "pQkjQuCL4DF3"
      },
      "execution_count": null,
      "outputs": []
    },
    {
      "cell_type": "code",
      "source": [
        "def number_generator(stop):\n",
        "    n = 0\n",
        "    while n < stop:\n",
        "      yield n\n",
        "      n += 1\n",
        "def three_generator():\n",
        "  yield from number_generator(3)\n",
        "\n",
        "for i in three_generator():\n",
        "    print(i)  "
      ],
      "metadata": {
        "id": "hAXdPFWF4c0F"
      },
      "execution_count": null,
      "outputs": []
    },
    {
      "cell_type": "code",
      "source": [
        "def number_coroutine():\n",
        "   while True:\n",
        "     x = (yield)\n",
        "     print(x)\n",
        "\n",
        "co = number_coroutine()\n",
        "next(co)\n",
        "\n",
        "co.send(1)\n",
        "co.send(2)\n",
        "co.send(3)\n",
        "\n"
      ],
      "metadata": {
        "id": "B4GWL6xv7UGY"
      },
      "execution_count": null,
      "outputs": []
    },
    {
      "cell_type": "code",
      "source": [
        "def sum_coroutine():\n",
        "  total = 0\n",
        "  while True:\n",
        "    x = (yield x)\n",
        "    if x == 3:\n",
        "      return x\n",
        "\n",
        "def print_coroutine():\n",
        "  while True:\n",
        "    x = yield from number_coroutine()\n",
        "    print('print_coroutine:', x)\n",
        "\n",
        "co = print_coroutine():\n",
        "next(co)\n",
        "\n",
        "x = co.send(1)\n",
        "print(x)\n",
        "x = co.send(2)\n",
        "print(x)\n",
        "co.send(3)\n",
        "\n"
      ],
      "metadata": {
        "id": "UxDfhVmu9Zwg"
      },
      "execution_count": null,
      "outputs": []
    },
    {
      "cell_type": "code",
      "source": [
        ""
      ],
      "metadata": {
        "id": "VizTD4pgMC_s"
      },
      "execution_count": null,
      "outputs": []
    },
    {
      "cell_type": "markdown",
      "source": [
        "# New Section"
      ],
      "metadata": {
        "id": "s9gX41JjMjCY"
      }
    },
    {
      "cell_type": "code",
      "source": [
        "a = [0, 10, 20, 30, 40, 50, 60, 70, 80, 90]\n",
        "30 in a"
      ],
      "metadata": {
        "id": "1QVqBKVHMkpg"
      },
      "execution_count": null,
      "outputs": []
    },
    {
      "cell_type": "code",
      "source": [
        "43 in (38, 76, 43, 62, 19)\n"
      ],
      "metadata": {
        "id": "FKpXiUuVMze0"
      },
      "execution_count": null,
      "outputs": []
    },
    {
      "cell_type": "code",
      "source": [
        ""
      ],
      "metadata": {
        "id": "4cj69J0COPgc"
      },
      "execution_count": null,
      "outputs": []
    },
    {
      "cell_type": "code",
      "source": [
        ""
      ],
      "metadata": {
        "id": "bx1t8ybNObGT"
      },
      "execution_count": null,
      "outputs": []
    },
    {
      "cell_type": "markdown",
      "source": [
        "# New Section"
      ],
      "metadata": {
        "id": "0Au41S6LOb_T"
      }
    },
    {
      "cell_type": "code",
      "source": [
        "import numpy as np\n",
        "from sklearn.datasets import load_sample_image\n",
        "import matplotlib.pyplot as plt\n",
        "plt.style.use('seaborn-white')\n",
        "\n",
        "from tensorflow.keras.layers import Conv2D"
      ],
      "metadata": {
        "id": "FRmh5atlOcjg"
      },
      "execution_count": null,
      "outputs": []
    },
    {
      "cell_type": "code",
      "source": [
        "flower = load_sample_image('flower.jpg') / 255\n",
        "print(flower.dtype)\n",
        "print(flower.shape)\n",
        "plt.imshow(flower)\n",
        "plt.show()"
      ],
      "metadata": {
        "id": "-q3WfykAPssI"
      },
      "execution_count": null,
      "outputs": []
    },
    {
      "cell_type": "code",
      "source": [
        "china = load_sample_image('china.jpg') / 255\n",
        "print(china.shape)\n",
        "plt.imshow(china)\n",
        "plt.show()"
      ],
      "metadata": {
        "id": "84nGlGMzQN3t"
      },
      "execution_count": null,
      "outputs": []
    },
    {
      "cell_type": "code",
      "source": [
        "images = np.array([china, flower])\n",
        "batch_size, height, width, channels = images.shape\n",
        "print(images.shape)"
      ],
      "metadata": {
        "id": "trQ8tWJxQhIq"
      },
      "execution_count": null,
      "outputs": []
    },
    {
      "cell_type": "code",
      "source": [
        "filters = np.zeros(shape=(7, 7, channels, 2), dtype=np.float32)\n",
        "filters[:, 3, :, 0] = 1\n",
        "filters[3, :, :, 1] = 1\n",
        "\n",
        "print(filters.shape)"
      ],
      "metadata": {
        "id": "x4_b1VyAR84t"
      },
      "execution_count": null,
      "outputs": []
    },
    {
      "cell_type": "code",
      "source": [
        "conv = Conv2D(filters=16, kernel_size=3, activation='relu')"
      ],
      "metadata": {
        "id": "z8an0ps-URYR"
      },
      "execution_count": null,
      "outputs": []
    },
    {
      "cell_type": "code",
      "source": [
        "from tensorflow.keras.layers import MaxPool2D"
      ],
      "metadata": {
        "id": "aWwznT24XeJI"
      },
      "execution_count": null,
      "outputs": []
    },
    {
      "cell_type": "code",
      "source": [
        "print(flower.shape)\n",
        "flower = np.expand_dims(flower, axis=0)\n",
        "print(flower.shape)\n",
        "\n",
        "output = Conv2D(filters=32, kernel_size=3, strides=1, padding='same', activation='relu')(flower)\n",
        "output = MaxPool2D(pool_size=2)(output)\n",
        "print(output.shape)\n"
      ],
      "metadata": {
        "id": "HyvDKCAWYY05"
      },
      "execution_count": null,
      "outputs": []
    },
    {
      "cell_type": "code",
      "source": [
        "plt.imshow(output[0, :, :, 16], cmap='gray')\n",
        "plt.show()"
      ],
      "metadata": {
        "id": "2e11ZuNMa3fi"
      },
      "execution_count": null,
      "outputs": []
    },
    {
      "cell_type": "code",
      "source": [
        "from tensorflow.keras.layers import AvgPool2D\n",
        "\n",
        "output = Conv2D(filters=32, kernel_size=3, strides=1, padding='same', activation='relu')(flower)\n",
        "print(output.shape)"
      ],
      "metadata": {
        "id": "9BG4ErLmd27y"
      },
      "execution_count": null,
      "outputs": []
    },
    {
      "cell_type": "code",
      "source": [
        "plt.imshow(output[0, :, :, 8], cmap='gray')\n",
        "plt.show()"
      ],
      "metadata": {
        "id": "LNVhExayhiuU"
      },
      "execution_count": null,
      "outputs": []
    },
    {
      "cell_type": "code",
      "source": [
        "from tensorflow.keras.layers import GlobalAvgPool2D"
      ],
      "metadata": {
        "id": "6NwYy_ITil0u"
      },
      "execution_count": null,
      "outputs": []
    },
    {
      "cell_type": "code",
      "source": [
        "print(flower.shape)\n",
        "\n",
        "output = Conv2D(filters=32, kernel_size=3, strides=1, padding='same', activation='relu')(flower)\n",
        "output = GlobalAvgPool2D()(output)\n",
        "print(output.shape)"
      ],
      "metadata": {
        "id": "kVhri7JTizDl"
      },
      "execution_count": null,
      "outputs": []
    },
    {
      "cell_type": "code",
      "source": [
        "from tensorflow.keras.layers import Dense\n",
        "output_size=64"
      ],
      "metadata": {
        "id": "m_Q4GAuiiy99"
      },
      "execution_count": null,
      "outputs": []
    },
    {
      "cell_type": "code",
      "source": [
        "from tensorflow.keras import Model\n",
        "from tensorflow.keras.layers import Conv2D, MaxPooling2D, Flatten, Dense\n",
        "from tensorflow.keras.callbacks import EarlyStopping, TensorBoard\n",
        "from tensorflow.keras.datasets import mnist\n",
        "\n",
        "import numpy as np"
      ],
      "metadata": {
        "id": "S8NoNk4riyzv"
      },
      "execution_count": null,
      "outputs": []
    },
    {
      "cell_type": "code",
      "source": [
        "(x_train, y_train), (x_test, y_test) = mnist.load_data()\n",
        "x_train, x_test = x_train[..., np.newaxis], x_test[..., np.newaxis]\n",
        "\n",
        "print(x_train.shape)\n",
        "print(y_train.shape)\n",
        "print(x_test.shape)\n",
        "print(y_test.shape)"
      ],
      "metadata": {
        "id": "iyN-w0jTte0W"
      },
      "execution_count": null,
      "outputs": []
    },
    {
      "cell_type": "code",
      "source": [
        "plt.imshow(x_train[0, :, :, 0])\n",
        "           "
      ],
      "metadata": {
        "id": "0e32tjKxteqO"
      },
      "execution_count": null,
      "outputs": []
    },
    {
      "cell_type": "code",
      "source": [
        "x_train, x_test = x_train / 255.0, x_test / 255.0"
      ],
      "metadata": {
        "id": "xvIxqngUu4Om"
      },
      "execution_count": null,
      "outputs": []
    },
    {
      "cell_type": "code",
      "source": [
        ""
      ],
      "metadata": {
        "id": "ug7RKiaavpxi"
      },
      "execution_count": null,
      "outputs": []
    },
    {
      "cell_type": "markdown",
      "source": [
        "# New Section"
      ],
      "metadata": {
        "id": "0fBiVPfarltQ"
      }
    },
    {
      "cell_type": "code",
      "source": [
        "class Classifier(nm.Module)\n",
        "\n",
        "  def __init__(self)\n",
        "  super().__init()\n",
        "\n",
        "  sper.model = nn.Sequential(\n",
        "      nn.linear(784,200)\n",
        "      nn.dignoid*\n",
        "  )"
      ],
      "metadata": {
        "id": "1XkAgcG3rojr"
      },
      "execution_count": null,
      "outputs": []
    },
    {
      "cell_type": "code",
      "source": [
        "import numpy as np\n",
        "\n",
        "import matplotlib.pyplot as plt\n",
        "\n",
        "from mpl_toolkits import mplot3d\n",
        "\n",
        " \n",
        "\n",
        "plt.figure(figsize=(10,10))\n",
        "\n",
        " \n",
        "\n",
        "ax=plt.axes(projection='3d')\n",
        "\n",
        "ax.xaxis.set_tick_params(labelsize=15)\n",
        "\n",
        "ax.yaxis.set_tick_params(labelsize=15)\n",
        "\n",
        "ax.zaxis.set_tick_params(labelsize=15)\n",
        "\n",
        "ax.set_xlabel(r\"$x_1$\",fontsize=20)\n",
        "\n",
        "ax.set_ylabel(r\"$y_2$\",fontsize=20)\n",
        "\n",
        "ax.set_zlabel(r\"$z1$\",fontsize=20)\n",
        "\n",
        " \n",
        "\n",
        "# scan speed 0.2~0.5 Meter/S)\n",
        "\n",
        "v=np.linspace(0.2,0.5,10)\n",
        "\n",
        " \n",
        "\n",
        "    \n",
        "\n",
        " \n",
        "\n",
        "# Repetition Rate 0.1~1MHz)\n",
        "\n",
        "f=np.linspace(100000,1000000,50)\n",
        "\n",
        " \n",
        "\n",
        "v,f =np.meshgrid(v,f)\n",
        "\n",
        " \n",
        "\n",
        "Z =(1-(v/f*100000))*100\n",
        "\n",
        " \n",
        "\n",
        "ax.scatter3D(v,f,Z, marker=\",\",color ='gray')\n",
        "\n",
        " \n",
        "\n",
        "ax.plot_surface(v,f,Z,cmap=plt.cm.binary,edgecolor=\"k\")\n",
        "\n",
        " \n",
        "\n",
        "plt.show()"
      ],
      "metadata": {
        "id": "QBIG8v_tahiz"
      },
      "execution_count": null,
      "outputs": []
    }
  ]
}